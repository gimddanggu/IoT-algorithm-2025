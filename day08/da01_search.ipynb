{
 "cells": [
  {
   "cell_type": "markdown",
   "metadata": {},
   "source": [
    "### 검색 알고리즘\n",
    "- 데이터에서 해당 요소가 있는지 찾는 것"
   ]
  },
  {
   "cell_type": "markdown",
   "metadata": {},
   "source": [
    "### 종류\n",
    "1. 순차\n",
    "2. 이진\n",
    "3. 트리"
   ]
  },
  {
   "cell_type": "code",
   "execution_count": null,
   "metadata": {},
   "outputs": [],
   "source": [
    "# 순차검색 함수 정의\n",
    "def seqSearch(ary, data):\n",
    "    pos = -1    # 아무것도 찾지 않음\n",
    "    size = len(ary)\n",
    "\n",
    "    print('## 비교한 데이터 ==> ', end=' ')\n",
    "    for i in range(size):\n",
    "        print(ary[i], end=' ')\n",
    "        if ary[i] == data:\n",
    "            pos = 1     # 내가 찾는 데이터가 이 인덱스에 있다\n",
    "            break\n",
    "        elif ary[i] > data:\n",
    "            break;\n",
    "    \n",
    "    print()\n",
    "    return pos"
   ]
  },
  {
   "cell_type": "code",
   "execution_count": 10,
   "metadata": {},
   "outputs": [
    {
     "name": "stdout",
     "output_type": "stream",
     "text": [
      "배열 -> [100, 150, 168, 162, 105, 120, 177, 50] \n",
      "## 비교한 데이터 ==>  100 150 168 \n",
      "168 / 1에 존재\n"
     ]
    }
   ],
   "source": [
    "# 변수 선언\n",
    "dataAry = [100, 150, 168, 162, 105, 120, 177, 50]\n",
    "findData = int(input('찾을 값을 입력(숫자) '))\n",
    "\n",
    "print(f'배열 -> {dataAry} ')\n",
    "pos = seqSearch(dataAry, findData)\n",
    "if pos == -1:\n",
    "    print(f'{findData} 없음')\n",
    "else:\n",
    "    print(f'{findData} / {pos}에 존재')\n"
   ]
  },
  {
   "cell_type": "markdown",
   "metadata": {},
   "source": [
    "- 정렬된 데이터 검색"
   ]
  },
  {
   "cell_type": "code",
   "execution_count": 11,
   "metadata": {},
   "outputs": [
    {
     "name": "stdout",
     "output_type": "stream",
     "text": [
      "배열 -> [50, 100, 105, 120, 150, 162, 168, 177] \n",
      "## 비교한 데이터 ==>  50 100 105 120 150 162 168 \n",
      "168 / 1에 존재\n"
     ]
    }
   ],
   "source": [
    "# 변수 선언\n",
    "dataAry = [100, 150, 168, 162, 105, 120, 177, 50]\n",
    "dataAry.sort()\n",
    "findData = int(input('찾을 값을 입력(숫자) '))\n",
    "\n",
    "print(f'배열 -> {dataAry} ')\n",
    "pos = seqSearch(dataAry, findData)\n",
    "if pos == -1:\n",
    "    print(f'{findData} 없음')\n",
    "else:\n",
    "    print(f'{findData} / {pos}에 존재')\n"
   ]
  },
  {
   "cell_type": "markdown",
   "metadata": {},
   "source": [
    "- 이진검색"
   ]
  },
  {
   "cell_type": "code",
   "execution_count": 3,
   "metadata": {},
   "outputs": [],
   "source": [
    "## 이진 검색 함수 정의\n",
    "def binSearch(ary, data):\n",
    "    pos = -1\n",
    "    start = 0\n",
    "    end = len(ary) - 1  # 리스트 마지막 인덱스\n",
    "\n",
    "    while start <= end:\n",
    "        mid = (start+end) // 2\n",
    "        if data == ary[mid]:\n",
    "            return mid\n",
    "        elif data > ary[mid]:\n",
    "            start = mid + 1\n",
    "        else:\n",
    "            end = mid -1\n",
    "    return pos"
   ]
  },
  {
   "cell_type": "code",
   "execution_count": 7,
   "metadata": {},
   "outputs": [
    {
     "name": "stdout",
     "output_type": "stream",
     "text": [
      "배열 -> [50, 100, 105, 120, 150, 162, 168, 177] \n",
      "2 없음\n"
     ]
    }
   ],
   "source": [
    "# 변수\n",
    "dataAry = [100, 150, 168, 162, 105, 120, 177, 50]\n",
    "dataAry.sort()\n",
    "findData = int(input('찾을 값을 입력(숫자) '))\n",
    "\n",
    "print(f'배열 -> {dataAry} ')\n",
    "pos = binSearch(dataAry, findData)\n",
    "if pos == -1:\n",
    "    print(f'{findData} 없음')\n",
    "else:\n",
    "    print(f'{findData} / {pos}에 존재')"
   ]
  }
 ],
 "metadata": {
  "kernelspec": {
   "display_name": "Python 3",
   "language": "python",
   "name": "python3"
  },
  "language_info": {
   "codemirror_mode": {
    "name": "ipython",
    "version": 3
   },
   "file_extension": ".py",
   "mimetype": "text/x-python",
   "name": "python",
   "nbconvert_exporter": "python",
   "pygments_lexer": "ipython3",
   "version": "3.11.9"
  }
 },
 "nbformat": 4,
 "nbformat_minor": 2
}
