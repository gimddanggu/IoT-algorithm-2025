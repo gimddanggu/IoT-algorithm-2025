{
 "cells": [
  {
   "cell_type": "markdown",
   "metadata": {},
   "source": [
    "### 연결 리스트(Linked List)\n",
    "- 노드(데이터, 링크 쌍)로 다음 데이터를 연결하는 동적 연결방식\n",
    "- 오버헤드가 없어서 매우 빨리 처리"
   ]
  },
  {
   "cell_type": "code",
   "execution_count": 34,
   "metadata": {},
   "outputs": [],
   "source": [
    "class Node:\n",
    "    def __init__(self):\n",
    "        self.data = None\n",
    "        self.link = None\n",
    "    \n",
    "    def __str__(self):\n",
    "        return (f'{self.data}/{self.link}')"
   ]
  },
  {
   "cell_type": "code",
   "execution_count": 35,
   "metadata": {},
   "outputs": [
    {
     "name": "stdout",
     "output_type": "stream",
     "text": [
      "다현/None\n"
     ]
    }
   ],
   "source": [
    "# 노드1 생성\n",
    "node1 = Node()\n",
    "node1.data = '다현'\n",
    "\n",
    "print(node1)"
   ]
  },
  {
   "cell_type": "code",
   "execution_count": 36,
   "metadata": {},
   "outputs": [
    {
     "name": "stdout",
     "output_type": "stream",
     "text": [
      "다현/정연/None\n"
     ]
    }
   ],
   "source": [
    "# 노드2\n",
    "node2 = Node()\n",
    "node2.data='정연'\n",
    "node1.link = node2 # 첫 번째 노드 링크에 두번째 노드를 넣어서 연결\n",
    "\n",
    "print(node1)"
   ]
  },
  {
   "cell_type": "code",
   "execution_count": 37,
   "metadata": {},
   "outputs": [],
   "source": [
    "node3 = Node()\n",
    "node3.data = '쯔위'\n",
    "node2.link = node3\n",
    "\n",
    "node4 = Node()\n",
    "node4.data = '사나'\n",
    "node3.link = node4\n",
    "\n",
    "node5 = Node()\n",
    "node5.data = '지효'\n",
    "node4.link = node5\n",
    "# node5.link == None\n",
    "\n",
    "\n"
   ]
  },
  {
   "cell_type": "code",
   "execution_count": 38,
   "metadata": {},
   "outputs": [
    {
     "name": "stdout",
     "output_type": "stream",
     "text": [
      "다현->정연->쯔위->사나->지효\n"
     ]
    }
   ],
   "source": [
    "print(node1.data, end = '->')    # node1\n",
    "print(node1.link.data, end = '->')   # node 2\n",
    "print(node1.link.link.data, end = '->')  # node 3\n",
    "print(node1.link.link.link.data, end = '->') # node 4\n",
    "print(node1.link.link.link.link.data, end = '\\n') # node 5\n",
    "\n",
    "\n"
   ]
  },
  {
   "cell_type": "code",
   "execution_count": 39,
   "metadata": {},
   "outputs": [
    {
     "name": "stdout",
     "output_type": "stream",
     "text": [
      "1887152623888\n",
      "1887152624528\n",
      "1887177512784\n",
      "1887145881680\n",
      "1887152696912\n"
     ]
    }
   ],
   "source": [
    "# 순차리스트처럼 연결되어 있지 않음\n",
    "print(id(node1))\n",
    "print(id(node2))\n",
    "print(id(node3))\n",
    "print(id(node4))\n",
    "print(id(node5))"
   ]
  },
  {
   "cell_type": "code",
   "execution_count": 40,
   "metadata": {},
   "outputs": [
    {
     "name": "stdout",
     "output_type": "stream",
     "text": [
      "다현->정연->쯔위->사나->지효\n"
     ]
    }
   ],
   "source": [
    "current = node1\n",
    "print(current.data, end='->')\n",
    "while current.link != None: # 현재 노드의 링크가 None(더 이상 다음 링크가 없다)\n",
    "    current = current.link  # node1.link에는 node2가 존재. node2를 current에 할당\n",
    "\n",
    "    if current.link is None:\n",
    "        print(current.data, end='\\n')   \n",
    "    else:  \n",
    "        print(current.data, end='->')\n"
   ]
  },
  {
   "cell_type": "markdown",
   "metadata": {},
   "source": [
    "- 연결 리스트 중간 데이터 삽입\n",
    "    1. 노드 생성\n",
    "    2. 연결할 위치 앞의 노드 링크가 가르키는 노드를 새로 생성한 노드도 가리키게 함\n",
    "    3. 앞 노드의 링크가 새로 생성한 노드를 가리키게 함"
   ]
  },
  {
   "cell_type": "code",
   "execution_count": null,
   "metadata": {},
   "outputs": [],
   "source": [
    "newNode = Node()\n",
    "newNode.data = '재남'\n",
    "newNode.link = node3 # node2.link도 가능 # node3이 newNode.link로 할당\n",
    "node2.link = newNode\n"
   ]
  },
  {
   "cell_type": "code",
   "execution_count": 42,
   "metadata": {},
   "outputs": [
    {
     "name": "stdout",
     "output_type": "stream",
     "text": [
      "다현->정연->재남->쯔위->사나->지효\n"
     ]
    }
   ],
   "source": [
    "current = node1\n",
    "print(current.data, end='->')\n",
    "while current.link != None: # 현재 노드의 링크가 None(더 이상 다음 링크가 없다)\n",
    "    current = current.link  # node1.link에는 node2가 존재. node2를 current에 할당\n",
    "\n",
    "    if current.link is None:\n",
    "        print(current.data, end='\\n')   \n",
    "    else:  \n",
    "        print(current.data, end='->')\n"
   ]
  },
  {
   "cell_type": "markdown",
   "metadata": {},
   "source": [
    "- 노드 삭제\n",
    "    1. 지우려는 노드의 link를 왼쪽 노드의 link로 할당\n",
    "    2. 지우려는 노드를 삭제 "
   ]
  },
  {
   "cell_type": "code",
   "execution_count": 43,
   "metadata": {},
   "outputs": [],
   "source": [
    "# node4를 지우려면\n",
    "node3.link = node4.link\n",
    "del(node4)"
   ]
  },
  {
   "cell_type": "code",
   "execution_count": 44,
   "metadata": {},
   "outputs": [
    {
     "name": "stdout",
     "output_type": "stream",
     "text": [
      "다현->정연->재남->쯔위->지효\n"
     ]
    }
   ],
   "source": [
    "current = node1\n",
    "print(current.data, end='->')\n",
    "while current.link != None: # 현재 노드의 링크가 None(더 이상 다음 링크가 없다)\n",
    "    current = current.link  # node1.link에는 node2가 존재. node2를 current에 할당\n",
    "\n",
    "    if current.link is None:\n",
    "        print(current.data, end='\\n')   \n",
    "    else:  \n",
    "        print(current.data, end='->')\n"
   ]
  },
  {
   "cell_type": "code",
   "execution_count": null,
   "metadata": {},
   "outputs": [],
   "source": []
  }
 ],
 "metadata": {
  "kernelspec": {
   "display_name": "Python 3",
   "language": "python",
   "name": "python3"
  },
  "language_info": {
   "codemirror_mode": {
    "name": "ipython",
    "version": 3
   },
   "file_extension": ".py",
   "mimetype": "text/x-python",
   "name": "python",
   "nbconvert_exporter": "python",
   "pygments_lexer": "ipython3",
   "version": "3.11.9"
  }
 },
 "nbformat": 4,
 "nbformat_minor": 2
}
